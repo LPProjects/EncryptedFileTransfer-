{
  "nbformat": 4,
  "nbformat_minor": 0,
  "metadata": {
    "colab": {
      "provenance": [],
      "authorship_tag": "ABX9TyMoeQtp27500qQk2YJDx20r",
      "include_colab_link": true
    },
    "kernelspec": {
      "name": "python3",
      "display_name": "Python 3"
    },
    "language_info": {
      "name": "python"
    }
  },
  "cells": [
    {
      "cell_type": "markdown",
      "metadata": {
        "id": "view-in-github",
        "colab_type": "text"
      },
      "source": [
        "<a href=\"https://colab.research.google.com/github/LPProjects/EncryptedFileTransfer-/blob/main/EncryptedFilfeTransfer.ipynb\" target=\"_parent\"><img src=\"https://colab.research.google.com/assets/colab-badge.svg\" alt=\"Open In Colab\"/></a>"
      ]
    },
    {
      "cell_type": "code",
      "execution_count": null,
      "metadata": {
        "colab": {
          "base_uri": "https://localhost:8080/"
        },
        "id": "nmi01F026_pE",
        "outputId": "0f41a8b8-a519-46a5-9b64-f49791f237b4"
      },
      "outputs": [
        {
          "output_type": "stream",
          "name": "stdout",
          "text": [
            "Looking in indexes: https://pypi.org/simple, https://us-python.pkg.dev/colab-wheels/public/simple/\n",
            "Collecting pycrypto\n",
            "  Downloading pycrypto-2.6.1.tar.gz (446 kB)\n",
            "\u001b[2K     \u001b[90m━━━━━━━━━━━━━━━━━━━━━━━━━━━━━━━━━━━━━━\u001b[0m \u001b[32m446.2/446.2 KB\u001b[0m \u001b[31m11.7 MB/s\u001b[0m eta \u001b[36m0:00:00\u001b[0m\n",
            "\u001b[?25h  Preparing metadata (setup.py) ... \u001b[?25l\u001b[?25hdone\n",
            "Building wheels for collected packages: pycrypto\n",
            "  Building wheel for pycrypto (setup.py) ... \u001b[?25l\u001b[?25hdone\n",
            "  Created wheel for pycrypto: filename=pycrypto-2.6.1-cp39-cp39-linux_x86_64.whl size=499021 sha256=92b848f69f895e6777f3993c331af5956159b61ee7236adb426199f5a7b5aa94\n",
            "  Stored in directory: /root/.cache/pip/wheels/9d/29/32/8b8f22481bec8b0fbe7087927336ec167faff2ed9db849448f\n",
            "Successfully built pycrypto\n",
            "Installing collected packages: pycrypto\n",
            "Successfully installed pycrypto-2.6.1\n"
          ]
        }
      ],
      "source": [
        "!pip install pycrypto"
      ]
    },
    {
      "cell_type": "code",
      "source": [
        "!pip install tqdm"
      ],
      "metadata": {
        "colab": {
          "base_uri": "https://localhost:8080/"
        },
        "id": "oXhD-B6k7LEV",
        "outputId": "5f9b096f-ebf5-42d3-a835-c7e18fe527a4"
      },
      "execution_count": null,
      "outputs": [
        {
          "output_type": "stream",
          "name": "stdout",
          "text": [
            "Looking in indexes: https://pypi.org/simple, https://us-python.pkg.dev/colab-wheels/public/simple/\n",
            "Requirement already satisfied: tqdm in /usr/local/lib/python3.9/dist-packages (4.65.0)\n"
          ]
        }
      ]
    },
    {
      "cell_type": "code",
      "source": [
        "!pip3 install pycryptodome\n"
      ],
      "metadata": {
        "colab": {
          "base_uri": "https://localhost:8080/"
        },
        "id": "omDYXlAV8b3h",
        "outputId": "f1aa92cd-2477-4f7b-9a54-465ea09a6f69"
      },
      "execution_count": null,
      "outputs": [
        {
          "output_type": "stream",
          "name": "stdout",
          "text": [
            "Looking in indexes: https://pypi.org/simple, https://us-python.pkg.dev/colab-wheels/public/simple/\n",
            "Requirement already satisfied: pycryptodome in /usr/local/lib/python3.9/dist-packages (3.17)\n"
          ]
        }
      ]
    },
    {
      "cell_type": "code",
      "source": [
        "from Crypto.Cipher import AES\n",
        "\n",
        "key = b\"Key99\"\n",
        "nonce = b\"Nce\"\n",
        "\n",
        "cipher = AES.new(key, AES.MODE_EAX, nonce)\n",
        "ciphertext = cipher.encrypt(b\"Hello World!\")\n",
        "\n",
        "print(ciphertext)\n",
        "\n",
        "cipher = AES.new(key, AES.MODE_EAX, nonce)\n",
        "print(cipher.decrypt(ciphertext))"
      ],
      "metadata": {
        "colab": {
          "base_uri": "https://localhost:8080/"
        },
        "id": "8E9fk6a77OQs",
        "outputId": "026918c2-d3fd-4c19-a442-f788c5e03b67"
      },
      "execution_count": null,
      "outputs": [
        {
          "output_type": "stream",
          "name": "stdout",
          "text": [
            "b'+\\x90B\\x87\\xc9\\xac\\x8a\\xe3y\\xb1rU'\n",
            "b'Hello World!'\n"
          ]
        }
      ]
    },
    {
      "cell_type": "code",
      "source": [
        "import os \n",
        "import socket\n",
        "from Crypto.Cipher import AES"
      ],
      "metadata": {
        "id": "p78LBuyM-AT6"
      },
      "execution_count": null,
      "outputs": []
    },
    {
      "cell_type": "code",
      "source": [
        "client = socket.socket(socket.AF_INET, socket.SOCK_STREAM)\n",
        "client.connect((\"localhost\", 9999))\n",
        "\n",
        "file_size = os.path.getsize(\"file\")\n",
        "\n",
        "with open(\"file\", \"rb\") as f:\n",
        "  data = f.read()\n",
        "\n",
        "encrypted = cipher.ecrypt(data)\n",
        "\n",
        "client.send(\"file.txt\".encode())\n",
        "client.send(str(file_size).encode())\n",
        "client.sendall(encrypted)\n",
        "client.send(b\"<END>\")\n",
        "\n",
        "client.close()"
      ],
      "metadata": {
        "id": "x8xSVEWG-EiQ"
      },
      "execution_count": null,
      "outputs": []
    }
  ]
}